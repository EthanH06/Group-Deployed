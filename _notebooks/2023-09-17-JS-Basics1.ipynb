{
 "cells": [
  {
   "cell_type": "markdown",
   "metadata": {},
   "source": [
    "---\n",
    "toc: true\n",
    "comments: false\n",
    "layout: post\n",
    "title: JS Basics\n",
    "description: JS Basics\n",
    "courses: { compsci: {week: 6} }\n",
    "type: hacks\n",
    "---"
   ]
  },
  {
   "cell_type": "code",
   "execution_count": 10,
   "metadata": {
    "vscode": {
     "languageId": "javascript"
    }
   },
   "outputs": [
    {
     "data": {
      "application/javascript": "\nlet originalString = \"Hello, World!\";\nlet substring = originalString.substring(0, 5);\nconsole.log(substring);\n\nlet upperCaseString = originalString.toUpperCase();\nconsole.log(upperCaseString);\n\nlet lowerCaseString = originalString.toLowerCase();\nconsole.log(lowerCaseString);\n\nlet includesCheck = originalString.includes(\"World\");\nconsole.log(includesCheck);\n\nlet num = 42;\nlet formattedNum = num.toLocaleString();\nconsole.log(formattedNum);\n\nlet fruits = [\"apple\", \"banana\", \"cherry\"];\nfruits.push(\"date\");\nconsole.log(fruits);\n\nfruits.pop();\nconsole.log(fruits);\n\nlet person = {\n  name: \"Ninaad\",\n  age: 16,\n};\nconsole.log(person.name);\n",
      "text/plain": [
       "<IPython.core.display.Javascript object>"
      ]
     },
     "metadata": {},
     "output_type": "display_data"
    }
   ],
   "source": [
    "%%js\n",
    "\n",
    "let originalString = \"Hello, World!\";\n",
    "let substring = originalString.substring(0, 5);\n",
    "console.log(substring);\n",
    "\n",
    "let upperCaseString = originalString.toUpperCase();\n",
    "console.log(upperCaseString);\n",
    "\n",
    "let lowerCaseString = originalString.toLowerCase();\n",
    "console.log(lowerCaseString);\n",
    "\n",
    "let includesCheck = originalString.includes(\"World\");\n",
    "console.log(includesCheck);\n",
    "\n",
    "let num = 42;\n",
    "let formattedNum = num.toLocaleString();\n",
    "console.log(formattedNum);\n",
    "\n",
    "let fruits = [\"apple\", \"banana\", \"cherry\"];\n",
    "fruits.push(\"date\");\n",
    "console.log(fruits);\n",
    "\n",
    "fruits.pop();\n",
    "console.log(fruits);\n",
    "\n",
    "let person = {\n",
    "  name: \"Ninaad\",\n",
    "  age: 16,\n",
    "};\n",
    "console.log(person.name);"
   ]
  },
  {
   "cell_type": "code",
   "execution_count": 3,
   "metadata": {
    "vscode": {
     "languageId": "html"
    }
   },
   "outputs": [
    {
     "data": {
      "text/html": [
       "\n",
       "<script \n",
       "        src=\"https://utteranc.es/client.js\"\n",
       "        repo=\"ninaadkiran/Ninaad-Repository2\"\n",
       "        issue-term=\"pathname\"\n",
       "        theme=\"github-dark\"\n",
       "        crossorigin=\"anonymous\"\n",
       "        async>\n",
       "</script>\n"
      ],
      "text/plain": [
       "<IPython.core.display.HTML object>"
      ]
     },
     "metadata": {},
     "output_type": "display_data"
    }
   ],
   "source": [
    "%%html\n",
    "\n",
    "<script \n",
    "        src=\"https://utteranc.es/client.js\"\n",
    "        repo=\"ninaadkiran/Ninaad-Repository2\"\n",
    "        issue-term=\"pathname\"\n",
    "        theme=\"github-dark\"\n",
    "        crossorigin=\"anonymous\"\n",
    "        async>\n",
    "</script>"
   ]
  }
 ],
 "metadata": {
  "kernelspec": {
   "display_name": "Python 3",
   "language": "python",
   "name": "python3"
  },
  "language_info": {
   "codemirror_mode": {
    "name": "ipython",
    "version": 3
   },
   "file_extension": ".py",
   "mimetype": "text/x-python",
   "name": "python",
   "nbconvert_exporter": "python",
   "pygments_lexer": "ipython3",
   "version": "3.10.12"
  },
  "orig_nbformat": 4
 },
 "nbformat": 4,
 "nbformat_minor": 2
}
