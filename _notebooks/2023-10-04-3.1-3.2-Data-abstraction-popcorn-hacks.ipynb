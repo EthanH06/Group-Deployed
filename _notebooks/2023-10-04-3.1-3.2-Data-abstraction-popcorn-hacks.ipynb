{
 "cells": [
  {
   "cell_type": "markdown",
   "metadata": {},
   "source": [
    "**3.1,3.2 Data Abstraction Popcorn Hacks**"
   ]
  },
  {
   "cell_type": "code",
   "execution_count": 1,
   "metadata": {},
   "outputs": [
    {
     "name": "stdout",
     "output_type": "stream",
     "text": [
      "binga\n"
     ]
    }
   ],
   "source": [
    "tinga = \"binga\"\n",
    "print(tinga)"
   ]
  },
  {
   "cell_type": "code",
   "execution_count": 6,
   "metadata": {},
   "outputs": [
    {
     "name": "stdout",
     "output_type": "stream",
     "text": [
      "goat\n",
      "6\n",
      "False\n"
     ]
    }
   ],
   "source": [
    "tinga = \"goat\"\n",
    "print(tinga)\n",
    "\n",
    "boolets = 6\n",
    "print(boolets)\n",
    "print(boolets>7)\n"
   ]
  },
  {
   "cell_type": "code",
   "execution_count": 9,
   "metadata": {},
   "outputs": [
    {
     "name": "stdout",
     "output_type": "stream",
     "text": [
      "3\n",
      "3\n"
     ]
    }
   ],
   "source": [
    "boolets = 1\n",
    "boolets1 = 2\n",
    "boolets2 = 3\n",
    "boolets1 = boolets2\n",
    "boolets = boolets1\n",
    "print(boolets1)\n",
    "print(boolets)"
   ]
  },
  {
   "cell_type": "code",
   "execution_count": 12,
   "metadata": {},
   "outputs": [
    {
     "name": "stdout",
     "output_type": "stream",
     "text": [
      "hungu hungu\n",
      "chong chong\n",
      "salamanca\n"
     ]
    }
   ],
   "source": [
    "tingus = [\"hungu hungu\",\"ring ring tinga\",\"tinga tinga 123\",\"chong chong\",\"pong\",\"pungu pungu\",\"salamanca\"]\n",
    "print(tingus[0])\n",
    "print(tingus[3])\n",
    "print(tingus[6])"
   ]
  },
  {
   "cell_type": "code",
   "execution_count": 13,
   "metadata": {},
   "outputs": [
    {
     "name": "stdout",
     "output_type": "stream",
     "text": [
      "[\"tinga\", \"ohh tinga\", \"ring ting ting\"]\n"
     ]
    }
   ],
   "source": [
    "import json\n",
    "ting = [\"tinga\",\"ohh tinga\",\"ring ting ting\"]\n",
    "json.obj = json.dumps(ting)\n",
    "print(json.obj)"
   ]
  }
 ],
 "metadata": {
  "kernelspec": {
   "display_name": "Python 3",
   "language": "python",
   "name": "python3"
  },
  "language_info": {
   "codemirror_mode": {
    "name": "ipython",
    "version": 3
   },
   "file_extension": ".py",
   "mimetype": "text/x-python",
   "name": "python",
   "nbconvert_exporter": "python",
   "pygments_lexer": "ipython3",
   "version": "3.10.12"
  },
  "orig_nbformat": 4
 },
 "nbformat": 4,
 "nbformat_minor": 2
}
