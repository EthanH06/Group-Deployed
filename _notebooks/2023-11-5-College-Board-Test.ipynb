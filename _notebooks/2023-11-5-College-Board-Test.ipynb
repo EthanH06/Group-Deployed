{
 "cells": [
  {
   "cell_type": "markdown",
   "metadata": {},
   "source": [
    "---\n",
    "toc: true\n",
    "comments: false\n",
    "layout: post\n",
    "title: College Board Learning and Corrections  \n",
    "description: college board\n",
    "courses: { compsci: {week: 11} }\n",
    "type: tangibles\n",
    "---"
   ]
  },
  {
   "cell_type": "markdown",
   "metadata": {},
   "source": [
    "Study Plan:\n",
    "\n",
    "  - I plan on taking the quiz first and noting the questions I am unsure on because I am not sure what to expect\n",
    "  \n",
    "  - I will review those questions and the ones I have missed and take notes on them\n",
    "  \n",
    "  - If the question seems to be common sense and a silly mistake I will skip it and move on\n",
    "  \n",
    "  - If it is more specific I will write it down and study it to be reviewed later"
   ]
  },
  {
   "cell_type": "markdown",
   "metadata": {},
   "source": [
    "Notes:\n",
    "\n",
    "- Citizen science: Research conducted by the general public, typically through crowd sourcing\n",
    "\n",
    "- Allows for greater data collection and gives community insight into research\n",
    "\n",
    "   - Boolean variables are used for data with two outcomes (true or false)\n",
    "\n",
    "- Internet Engineering Taskforce: A standards organization for the Internet and is responsible for the technical standards that make up the Internet protocol suite.\n",
    "\n",
    "- Benefits of using an iterative and incremental process: It helps programmers identify errors as components are added to a working program.\n",
    "\n",
    "- During internet connection, every device connected to the Internet is assigned an Internet protocol (IP) address.\n",
    "\n",
    "- "
   ]
  }
 ],
 "metadata": {
  "kernelspec": {
   "display_name": "Python 3",
   "language": "python",
   "name": "python3"
  },
  "language_info": {
   "codemirror_mode": {
    "name": "ipython",
    "version": 3
   },
   "file_extension": ".py",
   "mimetype": "text/x-python",
   "name": "python",
   "nbconvert_exporter": "python",
   "pygments_lexer": "ipython3",
   "version": "3.10.12"
  },
  "orig_nbformat": 4
 },
 "nbformat": 4,
 "nbformat_minor": 2
}
