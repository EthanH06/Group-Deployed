{
 "cells": [
  {
   "cell_type": "markdown",
   "metadata": {},
   "source": [
    "---\n",
    "toc: true\n",
    "comments: false\n",
    "layout: post\n",
    "title: HTML Basics\n",
    "description: HTML Basics\n",
    "courses: { compsci: {week: 6} }\n",
    "type: hacks\n",
    "---"
   ]
  },
  {
   "cell_type": "code",
   "execution_count": 4,
   "metadata": {
    "vscode": {
     "languageId": "html"
    }
   },
   "outputs": [
    {
     "data": {
      "text/html": [
       "\n",
       "<div>\n",
       "    <p><b>This is a paragraph</b></p>\n",
       "    <button>This is a button</button>\n",
       "</div>\n",
       "\n",
       "<div>\n",
       "    <a href=\"https://nighthawkcoders.github.io/teacher/basics/html\"><i>Where I learned to do This</i></a>\n",
       "    <br>\n",
       "    <a href=\"https://www.w3schools.com/\"><i>One of the most helpful coding websites</i></a>\n",
       "</div>\n"
      ],
      "text/plain": [
       "<IPython.core.display.HTML object>"
      ]
     },
     "metadata": {},
     "output_type": "display_data"
    }
   ],
   "source": [
    "%%html\n",
    "\n",
    "<div>\n",
    "    <p><b>This is a paragraph</b></p>\n",
    "    <button>This is a button</button>\n",
    "</div>\n",
    "\n",
    "<div>\n",
    "    <a href=\"https://nighthawkcoders.github.io/teacher/basics/html\"><i>Where I learned to do This</i></a>\n",
    "    <br>\n",
    "    <a href=\"https://www.w3schools.com/\"><i>One of the most helpful coding websites</i></a>\n",
    "</div>"
   ]
  },
  {
   "cell_type": "code",
   "execution_count": 3,
   "metadata": {
    "vscode": {
     "languageId": "html"
    }
   },
   "outputs": [
    {
     "data": {
      "text/html": [
       "\n",
       "<div>\n",
       "    <p id=\"pTag1\">This is a paragraph</p>\n",
       "    <button id=\"myButton\" onclick=\"switchatags()\">This is a button</button>\n",
       "</div>\n",
       "\n",
       "<div>\n",
       "    <a id=\"aTag1\" href=\"https://nighthawkcoders.github.io/teacher/basics/html\"><i>Where I learned to do this</i></a>\n",
       "    <br>\n",
       "    <a id=\"aTag2\" href=\"https://www.w3schools.com/\"><i>One of the most helpful coding websites</i></a>\n",
       "</div>\n",
       "<script>\n",
       "  function switchatags() {\n",
       "    var aTag1 = document.getElementById(\"aTag1\")\n",
       "    var aTag2 = document.getElementById(\"aTag2\")\n",
       "    var pTag1 = document.getElementById(\"pTag1\")\n",
       "    var aTag1inside = aTag1.innerHTML\n",
       "    var aTag2inside = aTag2.innerHTML\n",
       "    aTag1.innerHTML = aTag2inside\n",
       "    aTag2.innerHTML = aTag1inside\n",
       "    var pTag1 = document.getElementById(\"pTag1\")\n",
       "    pTag1.innerHTML = \"switched!\"\n",
       "  }\n",
       "</script>\n"
      ],
      "text/plain": [
       "<IPython.core.display.HTML object>"
      ]
     },
     "metadata": {},
     "output_type": "display_data"
    }
   ],
   "source": [
    "%%html\n",
    "\n",
    "<div>\n",
    "    <p id=\"pTag1\">This is a paragraph</p>\n",
    "    <button id=\"myButton\" onclick=\"switchatags()\">This is a button</button>\n",
    "</div>\n",
    "\n",
    "<div>\n",
    "    <a id=\"aTag1\" href=\"https://nighthawkcoders.github.io/teacher/basics/html\"><i>Where I learned to do this</i></a>\n",
    "    <br>\n",
    "    <a id=\"aTag2\" href=\"https://www.w3schools.com/\"><i>One of the most helpful coding websites</i></a>\n",
    "</div>\n",
    "<script>\n",
    "  function switchatags() {\n",
    "    var aTag1 = document.getElementById(\"aTag1\")\n",
    "    var aTag2 = document.getElementById(\"aTag2\")\n",
    "    var pTag1 = document.getElementById(\"pTag1\")\n",
    "    var aTag1inside = aTag1.innerHTML\n",
    "    var aTag2inside = aTag2.innerHTML\n",
    "    aTag1.innerHTML = aTag2inside\n",
    "    aTag2.innerHTML = aTag1inside\n",
    "    var pTag1 = document.getElementById(\"pTag1\")\n",
    "    pTag1.innerHTML = \"switched!\"\n",
    "  }\n",
    "</script>\n"
   ]
  },
  {
   "cell_type": "code",
   "execution_count": 2,
   "metadata": {
    "vscode": {
     "languageId": "html"
    }
   },
   "outputs": [
    {
     "data": {
      "text/html": [
       "\n",
       "    <style>\n",
       "        .red-text {\n",
       "            color: red;\n",
       "        }\n",
       "\n",
       "        .green-text {\n",
       "            color: green;\n",
       "        }\n",
       "    </style>\n",
       "\n",
       "    <script>\n",
       "        const a = 10;\n",
       "        const b = 5;\n",
       "\n",
       "        if (a > b) {\n",
       "            console.log(\"%ca is greater\", \"color: red;\");\n",
       "        } else if (b > a) {\n",
       "            console.log(\"%cb is greater\", \"color: red;\");\n",
       "        } else {\n",
       "            console.log(\"%cboth are equal\", \"color: green;\");\n",
       "        }\n",
       "    </script>\n"
      ],
      "text/plain": [
       "<IPython.core.display.HTML object>"
      ]
     },
     "metadata": {},
     "output_type": "display_data"
    }
   ],
   "source": [
    "%%html\n",
    "\n",
    "    <style>\n",
    "        .red-text {\n",
    "            color: red;\n",
    "        }\n",
    "\n",
    "        .green-text {\n",
    "            color: green;\n",
    "        }\n",
    "    </style>\n",
    "\n",
    "    <script>\n",
    "        const a = 10;\n",
    "        const b = 5;\n",
    "\n",
    "        if (a > b) {\n",
    "            console.log(\"%ca is greater\", \"color: red;\");\n",
    "        } else if (b > a) {\n",
    "            console.log(\"%cb is greater\", \"color: red;\");\n",
    "        } else {\n",
    "            console.log(\"%cboth are equal\", \"color: green;\");\n",
    "        }\n",
    "    </script>"
   ]
  },
  {
   "cell_type": "code",
   "execution_count": 1,
   "metadata": {
    "vscode": {
     "languageId": "html"
    }
   },
   "outputs": [
    {
     "data": {
      "text/html": [
       "\n",
       "<script \n",
       "        src=\"https://utteranc.es/client.js\"\n",
       "        repo=\"ninaadkiran/Ninaad-Repository2\"\n",
       "        issue-term=\"pathname\"\n",
       "        theme=\"github-dark\"\n",
       "        crossorigin=\"anonymous\"\n",
       "        async>\n",
       "</script>\n"
      ],
      "text/plain": [
       "<IPython.core.display.HTML object>"
      ]
     },
     "metadata": {},
     "output_type": "display_data"
    }
   ],
   "source": [
    "%%html\n",
    "\n",
    "<script \n",
    "        src=\"https://utteranc.es/client.js\"\n",
    "        repo=\"ninaadkiran/Ninaad-Repository2\"\n",
    "        issue-term=\"pathname\"\n",
    "        theme=\"github-dark\"\n",
    "        crossorigin=\"anonymous\"\n",
    "        async>\n",
    "</script>"
   ]
  }
 ],
 "metadata": {
  "kernelspec": {
   "display_name": "Python 3",
   "language": "python",
   "name": "python3"
  },
  "language_info": {
   "codemirror_mode": {
    "name": "ipython",
    "version": 3
   },
   "file_extension": ".py",
   "mimetype": "text/x-python",
   "name": "python",
   "nbconvert_exporter": "python",
   "pygments_lexer": "ipython3",
   "version": "3.10.12"
  },
  "orig_nbformat": 4
 },
 "nbformat": 4,
 "nbformat_minor": 2
}
