{
 "cells": [
  {
   "cell_type": "markdown",
   "metadata": {},
   "source": [
    "---\n",
    "toc: true\n",
    "comments: false\n",
    "layout: post\n",
    "title: HTML Basics\n",
    "description: HTML Basics\n",
    "courses: { compsci: {week: 6} }\n",
    "type: hacks\n",
    "---"
   ]
  },
  {
   "cell_type": "code",
   "execution_count": 2,
   "metadata": {
    "vscode": {
     "languageId": "html"
    }
   },
   "outputs": [
    {
     "data": {
      "text/html": [
       "\n",
       "    <style>\n",
       "        .red-text {\n",
       "            color: red;\n",
       "        }\n",
       "\n",
       "        .green-text {\n",
       "            color: green;\n",
       "        }\n",
       "    </style>\n",
       "\n",
       "    <script>\n",
       "        const a = 10;\n",
       "        const b = 5;\n",
       "\n",
       "        if (a > b) {\n",
       "            console.log(\"%ca is greater\", \"color: red;\");\n",
       "        } else if (b > a) {\n",
       "            console.log(\"%cb is greater\", \"color: red;\");\n",
       "        } else {\n",
       "            console.log(\"%cboth are equal\", \"color: green;\");\n",
       "        }\n",
       "    </script>\n"
      ],
      "text/plain": [
       "<IPython.core.display.HTML object>"
      ]
     },
     "metadata": {},
     "output_type": "display_data"
    }
   ],
   "source": [
    "%%html\n",
    "\n",
    "    <style>\n",
    "        .red-text {\n",
    "            color: red;\n",
    "        }\n",
    "\n",
    "        .green-text {\n",
    "            color: green;\n",
    "        }\n",
    "    </style>\n",
    "\n",
    "    <script>\n",
    "        const a = 10;\n",
    "        const b = 5;\n",
    "\n",
    "        if (a > b) {\n",
    "            console.log(\"%ca is greater\", \"color: red;\");\n",
    "        } else if (b > a) {\n",
    "            console.log(\"%cb is greater\", \"color: red;\");\n",
    "        } else {\n",
    "            console.log(\"%cboth are equal\", \"color: green;\");\n",
    "        }\n",
    "    </script>"
   ]
  },
  {
   "cell_type": "code",
   "execution_count": 1,
   "metadata": {
    "vscode": {
     "languageId": "html"
    }
   },
   "outputs": [
    {
     "data": {
      "text/html": [
       "\n",
       "<script \n",
       "        src=\"https://utteranc.es/client.js\"\n",
       "        repo=\"ninaadkiran/Ninaad-Repository2\"\n",
       "        issue-term=\"pathname\"\n",
       "        theme=\"github-dark\"\n",
       "        crossorigin=\"anonymous\"\n",
       "        async>\n",
       "</script>\n"
      ],
      "text/plain": [
       "<IPython.core.display.HTML object>"
      ]
     },
     "metadata": {},
     "output_type": "display_data"
    }
   ],
   "source": [
    "%%html\n",
    "\n",
    "<script \n",
    "        src=\"https://utteranc.es/client.js\"\n",
    "        repo=\"ninaadkiran/Ninaad-Repository2\"\n",
    "        issue-term=\"pathname\"\n",
    "        theme=\"github-dark\"\n",
    "        crossorigin=\"anonymous\"\n",
    "        async>\n",
    "</script>"
   ]
  }
 ],
 "metadata": {
  "kernelspec": {
   "display_name": "Python 3",
   "language": "python",
   "name": "python3"
  },
  "language_info": {
   "codemirror_mode": {
    "name": "ipython",
    "version": 3
   },
   "file_extension": ".py",
   "mimetype": "text/x-python",
   "name": "python",
   "nbconvert_exporter": "python",
   "pygments_lexer": "ipython3",
   "version": "3.10.12"
  },
  "orig_nbformat": 4
 },
 "nbformat": 4,
 "nbformat_minor": 2
}
