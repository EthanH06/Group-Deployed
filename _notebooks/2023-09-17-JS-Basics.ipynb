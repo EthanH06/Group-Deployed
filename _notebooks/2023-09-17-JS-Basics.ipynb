{
 "cells": [
  {
   "cell_type": "markdown",
   "metadata": {},
   "source": [
    "---\n",
    "toc: true\n",
    "comments: false\n",
    "layout: post\n",
    "title: JS Basics\n",
    "description: JS Basics\n",
    "courses: { compsci: {week: 6} }\n",
    "type: hacks\n",
    "---"
   ]
  },
  {
   "cell_type": "code",
   "execution_count": 4,
   "metadata": {
    "vscode": {
     "languageId": "javascript"
    }
   },
   "outputs": [
    {
     "data": {
      "application/javascript": "\nlet originalString = \"Hello, World!\";\nlet substring = originalString.substring(0, 5);\nconsole.log(substring);\n\nlet upperCaseString = originalString.toUpperCase();\nconsole.log(upperCaseString);\n\nlet lowerCaseString = originalString.toLowerCase();\nconsole.log(lowerCaseString);\n\nlet includesCheck = originalString.includes(\"World\");\nconsole.log(includesCheck);\n\nlet num = 42;\nlet formattedNum = num.toLocaleString();\nconsole.log(formattedNum);\n\nlet fruits = [\"apple\", \"banana\", \"cherry\"];\nfruits.push(\"date\");\nconsole.log(fruits);\n\nfruits.pop();\nconsole.log(fruits);\n\nlet person = {\n  name: \"John\",\n  age: 30,\n};\nconsole.log(person.name);\n",
      "text/plain": [
       "<IPython.core.display.Javascript object>"
      ]
     },
     "metadata": {},
     "output_type": "display_data"
    }
   ],
   "source": [
    "%%js\n",
    "\n",
    "let originalString = \"Hello, World!\";\n",
    "let substring = originalString.substring(0, 5);\n",
    "console.log(substring);\n",
    "\n",
    "let upperCaseString = originalString.toUpperCase();\n",
    "console.log(upperCaseString);\n",
    "\n",
    "let lowerCaseString = originalString.toLowerCase();\n",
    "console.log(lowerCaseString);\n",
    "\n",
    "let includesCheck = originalString.includes(\"World\");\n",
    "console.log(includesCheck);\n",
    "\n",
    "let num = 42;\n",
    "let formattedNum = num.toLocaleString();\n",
    "console.log(formattedNum);\n",
    "\n",
    "let fruits = [\"apple\", \"banana\", \"cherry\"];\n",
    "fruits.push(\"date\");\n",
    "console.log(fruits);\n",
    "\n",
    "fruits.pop();\n",
    "console.log(fruits);\n",
    "\n",
    "let person = {\n",
    "  name: \"John\",\n",
    "  age: 30,\n",
    "};\n",
    "console.log(person.name);"
   ]
  },
  {
   "cell_type": "code",
   "execution_count": 5,
   "metadata": {
    "vscode": {
     "languageId": "javascript"
    }
   },
   "outputs": [
    {
     "data": {
      "application/javascript": "\nvar alphabet = \"abcdefghijklmnopqrstuvwxyz\";\nvar alphabetList = [];\n\nfor (var i = 0; i < 10; i++) {\n    alphabetList.push(alphabet[i]);\n}\n\nconsole.log(alphabetList);\n",
      "text/plain": [
       "<IPython.core.display.Javascript object>"
      ]
     },
     "metadata": {},
     "output_type": "display_data"
    }
   ],
   "source": [
    "%%js\n",
    "\n",
    "var alphabet = \"abcdefghijklmnopqrstuvwxyz\";\n",
    "var alphabetList = [];\n",
    "\n",
    "for (var i = 0; i < 10; i++) {\n",
    "    alphabetList.push(alphabet[i]);\n",
    "}\n",
    "\n",
    "console.log(alphabetList);"
   ]
  },
  {
   "cell_type": "markdown",
   "metadata": {},
   "source": [
    "**What I Changed**\n",
    "\n",
    "In the modified code, we kept the alphabet variable the same. However, instead of pushing numbers into the alphabetList, we changed the push statement to alphabetList.push(alphabet[i])."
   ]
  },
  {
   "cell_type": "code",
   "execution_count": 4,
   "metadata": {
    "vscode": {
     "languageId": "javascript"
    }
   },
   "outputs": [
    {
     "data": {
      "application/javascript": "\nvar alphabet = \"abcdefghijklmnopqrstuvwxyz\";\nvar alphabetList = [];\n\nfor (var i = 0; i < alphabet.length; i++) {\n    alphabetList.push(alphabet[i]);\n}\n\nlet letterNumber = 4;\n\nfor (var i = 0; i < alphabetList.length; i++) {\n    if (i === letterNumber) {\n        console.log('\"' + alphabetList[i] + '\" is letter number ' + (i + 1) + ' in the alphabet');\n    }\n}\n",
      "text/plain": [
       "<IPython.core.display.Javascript object>"
      ]
     },
     "metadata": {},
     "output_type": "display_data"
    }
   ],
   "source": [
    "%%js\n",
    "\n",
    "var alphabet = \"abcdefghijklmnopqrstuvwxyz\";\n",
    "var alphabetList = [];\n",
    "\n",
    "for (var i = 0; i < alphabet.length; i++) {\n",
    "    alphabetList.push(alphabet[i]);\n",
    "}\n",
    "\n",
    "let letterNumber = 4;\n",
    "\n",
    "for (var i = 0; i < alphabetList.length; i++) {\n",
    "    if (i === letterNumber) {\n",
    "        console.log('\"' + alphabetList[i] + '\" is letter number ' + (i + 1) + ' in the alphabet');\n",
    "    }\n",
    "}"
   ]
  },
  {
   "cell_type": "markdown",
   "metadata": {},
   "source": [
    "**What I Changed**\n",
    "\n",
    "In this code, first I built the alphabetList array from the alphabet string. Then, I used a loop to iterate through the alphabetList array, and when I found the desired letterNumber, I printed the corresponding letter and its position in the alphabet."
   ]
  },
  {
   "cell_type": "code",
   "execution_count": null,
   "metadata": {
    "vscode": {
     "languageId": "javascript"
    }
   },
   "outputs": [],
   "source": [
    "%%js\n",
    "\n",
    "let odds = [];\n",
    "let i = 1;\n",
    "\n",
    "while (i <= 10) {\n",
    "  odds.push(i);\n",
    "  i += 2;\n",
    "}\n",
    "\n",
    "console.log(odds);"
   ]
  },
  {
   "cell_type": "markdown",
   "metadata": {},
   "source": [
    "**What I Changed**\n",
    "\n",
    "I just changed the start value for i from 0 to 1. Otherwise it will start from 0."
   ]
  },
  {
   "cell_type": "code",
   "execution_count": null,
   "metadata": {
    "vscode": {
     "languageId": "javascript"
    }
   },
   "outputs": [],
   "source": [
    "%%js\n",
    "\n",
    "var newNumbers = [];\n",
    "for (var i = 1; i <= 100; i++) {\n",
    "    if (i % 2 === 0 || i % 5 === 0) {\n",
    "        newNumbers.push(i);\n",
    "    }\n",
    "}\n",
    "console.log(newNumbers);"
   ]
  },
  {
   "cell_type": "markdown",
   "metadata": {},
   "source": [
    "**What I Changed**\n",
    "\n",
    "The changes in the code involve simplifying the initialization and loop structure, using a for loop to generate numbers from 1 to 100 and a single if statement with the logical OR (||) operator to check for multiples of 2 or 5. This ensures that each qualifying number is pushed into the newNumbers array only once, eliminating duplication."
   ]
  }
 ],
 "metadata": {
  "kernelspec": {
   "display_name": "Python 3",
   "language": "python",
   "name": "python3"
  },
  "language_info": {
   "codemirror_mode": {
    "name": "ipython",
    "version": 3
   },
   "file_extension": ".py",
   "mimetype": "text/x-python",
   "name": "python",
   "nbconvert_exporter": "python",
   "pygments_lexer": "ipython3",
   "version": "3.10.12"
  },
  "orig_nbformat": 4
 },
 "nbformat": 4,
 "nbformat_minor": 2
}
