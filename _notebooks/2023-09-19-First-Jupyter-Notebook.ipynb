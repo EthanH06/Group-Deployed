{
 "cells": [
  {
   "cell_type": "markdown",
   "id": "436860cb",
   "metadata": {},
   "source": [
    "Some cells only have an output function which only allows them to display things on a screen without\n",
    "any interaction from a user"
   ]
  },
  {
   "cell_type": "code",
   "execution_count": 2,
   "id": "4c37afe8",
   "metadata": {},
   "outputs": [
    {
     "name": "stdout",
     "output_type": "stream",
     "text": [
      "this is a simple example of a program with an output\n"
     ]
    }
   ],
   "source": [
    "print (\"this is a simple example of a program with an output\")"
   ]
  },
  {
   "cell_type": "markdown",
   "id": "0f86e2fe",
   "metadata": {},
   "source": [
    "Some cells give you the ability to interact with them to give you reactive answers"
   ]
  },
  {
   "cell_type": "code",
   "execution_count": null,
   "id": "f710bf89",
   "metadata": {},
   "outputs": [],
   "source": [
    "print('Welcome to AskPython Quiz')\n",
    "answer=input('Are you ready to play the Quiz ? (yes/no) :')\n",
    "score=0\n",
    "total_questions=1\n",
    "\n",
    "if answer.lower()=='yes':\n",
    "    answer=input('Question 1: What type of program is this?')\n",
    "    if answer.lower()=='program with input and output':\n",
    "        score += 1\n",
    "        print(\"\\x1b[32mCorrect\\x1b[0m\")\n",
    "    else:\n",
    "        print(\"\\x1b[31mWrong\\x1b[0m\")\n",
    "print('Thankyou for Playing this small quiz game, you attempted',score,\"questions correctly!\")\n",
    "mark=(score/total_questions)*100\n",
    "rounded_mark = round(mark, 2)\n",
    "print('Marks obtained as percentage:',rounded_mark)"
   ]
  },
  {
   "cell_type": "markdown",
   "id": "4e48dad6",
   "metadata": {},
   "source": [
    "Some programs can have lists of things that contain elements inside them. There are multiple ways to edit the list, one of which is listed below."
   ]
  },
  {
   "cell_type": "code",
   "execution_count": 6,
   "id": "ff6d435e",
   "metadata": {},
   "outputs": [
    {
     "name": "stdout",
     "output_type": "stream",
     "text": [
      "Before Append: [21, 34, 54, 12]\n",
      "After Append: [21, 34, 54, 12, 37]\n"
     ]
    }
   ],
   "source": [
    "numbers = [21, 34, 54, 12]\n",
    "\n",
    "print(\"Before Append:\", numbers)\n",
    "\n",
    "numbers.append(37)\n",
    "\n",
    "print(\"After Append:\", numbers)"
   ]
  },
  {
   "cell_type": "markdown",
   "id": "e63c998e",
   "metadata": {},
   "source": [
    "A dictionary is an unordered collection of elements that contains key:value pairs. Dictionaries can also be edited based on their key:value pairs."
   ]
  },
  {
   "cell_type": "code",
   "execution_count": 7,
   "id": "d711b30a",
   "metadata": {},
   "outputs": [
    {
     "name": "stdout",
     "output_type": "stream",
     "text": [
      "{'Aaron': 15, 'Brandon': 9, 'Eshaan': 2, 'Ninaad': 10}\n"
     ]
    }
   ],
   "source": [
    "myDict = {'Ninaad': 10, 'Brandon': 9,\n",
    "\t\t'Aaron': 15, 'Eshaan': 2}\n",
    "\n",
    "myKeys = list(myDict.keys())\n",
    "myKeys.sort()\n",
    "sorted_dict = {i: myDict[i] for i in myKeys}\n",
    "\n",
    "print(sorted_dict)"
   ]
  }
 ],
 "metadata": {
  "kernelspec": {
   "display_name": "Python 3 (ipykernel)",
   "language": "python",
   "name": "python3"
  },
  "language_info": {
   "codemirror_mode": {
    "name": "ipython",
    "version": 3
   },
   "file_extension": ".py",
   "mimetype": "text/x-python",
   "name": "python",
   "nbconvert_exporter": "python",
   "pygments_lexer": "ipython3",
   "version": "3.10.12"
  }
 },
 "nbformat": 4,
 "nbformat_minor": 5
}
