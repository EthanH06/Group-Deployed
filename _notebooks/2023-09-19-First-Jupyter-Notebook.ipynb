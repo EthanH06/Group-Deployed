{
 "cells": [
  {
   "cell_type": "markdown",
   "id": "436860cb",
   "metadata": {},
   "source": [
    "**Some cells only have an output function which only allows them to display things on a screen without\n",
    "any interaction from a user**"
   ]
  },
  {
   "cell_type": "code",
   "execution_count": null,
   "id": "4c37afe8",
   "metadata": {},
   "outputs": [],
   "source": [
    "print (\"this is a simple example of a program with an output\")"
   ]
  },
  {
   "cell_type": "markdown",
   "id": "0f86e2fe",
   "metadata": {},
   "source": [
    "**Some cells give you the ability to interact with them to give you reactive answers**"
   ]
  },
  {
   "cell_type": "code",
   "execution_count": null,
   "id": "f710bf89",
   "metadata": {},
   "outputs": [],
   "source": [
    "user_input = input(\"Enter something: \")\n",
    "print(\"You entered:\", user_input)\n"
   ]
  },
  {
   "cell_type": "markdown",
   "id": "4e48dad6",
   "metadata": {},
   "source": [
    "**Some programs can have lists of things that contain elements inside them. There are multiple ways to edit the list, one of which is listed below.**"
   ]
  },
  {
   "cell_type": "code",
   "execution_count": null,
   "id": "ff6d435e",
   "metadata": {},
   "outputs": [],
   "source": [
    "numbers = [21, 34, 54, 12]\n",
    "\n",
    "print(\"Before Append:\", numbers)\n",
    "\n",
    "numbers.append(37)\n",
    "\n",
    "print(\"After Append:\", numbers)"
   ]
  },
  {
   "cell_type": "markdown",
   "id": "e63c998e",
   "metadata": {},
   "source": [
    "**A dictionary is an unordered collection of elements that contains key:value pairs. Dictionaries can also be edited based on their key:value pairs.**"
   ]
  },
  {
   "cell_type": "code",
   "execution_count": null,
   "id": "d711b30a",
   "metadata": {},
   "outputs": [],
   "source": [
    "my_dictionary = {\n",
    "    \"name\": \"John\",\n",
    "    \"age\": 30,\n",
    "    \"city\": \"New York\"\n",
    "}\n",
    "\n",
    "print(\"Name:\", my_dictionary[\"name\"])\n",
    "print(\"Age:\", my_dictionary[\"age\"])\n",
    "print(\"City:\", my_dictionary[\"city\"])"
   ]
  },
  {
   "cell_type": "markdown",
   "id": "6d6429bc",
   "metadata": {},
   "source": [
    "**Iterations, also known as loops, repeat a block of code multiple times or to iterate over a collection (like a list or dictionary) to perform operations on its elements.**"
   ]
  },
  {
   "cell_type": "markdown",
   "id": "e6ee912d",
   "metadata": {},
   "source": [
    "This is an example of a 'for' loop. Iterates for certain parts, in this case it iterates the type of fruit."
   ]
  },
  {
   "cell_type": "code",
   "execution_count": null,
   "id": "5b83ae36",
   "metadata": {},
   "outputs": [],
   "source": [
    "fruits = [\"apple\", \"banana\", \"cherry\"]\n",
    "for fruit in fruits:\n",
    "    print(f\"I like {fruit}s\")"
   ]
  },
  {
   "cell_type": "markdown",
   "id": "a0d9a09c",
   "metadata": {},
   "source": [
    "This is an example of a 'while' loop. Iterations are happening while the program is running"
   ]
  },
  {
   "cell_type": "code",
   "execution_count": null,
   "id": "142233f4",
   "metadata": {},
   "outputs": [],
   "source": [
    "count = 0\n",
    "while count < 5:\n",
    "    print(f\"Count is {count}\")\n",
    "    count += 1\n"
   ]
  },
  {
   "cell_type": "markdown",
   "id": "ecf66f8b",
   "metadata": {},
   "source": [
    "**Here are some mathematical functions in python**"
   ]
  },
  {
   "cell_type": "code",
   "execution_count": null,
   "id": "dc763d07",
   "metadata": {},
   "outputs": [],
   "source": [
    "num1 = float(input(\"Enter the first number: \"))\n",
    "num2 = float(input(\"Enter the second number: \"))\n",
    "sum_result = num1 + num2\n",
    "print(f\"{num1} + {num2} = {sum_result}\")"
   ]
  },
  {
   "cell_type": "code",
   "execution_count": null,
   "id": "b3d11464",
   "metadata": {},
   "outputs": [],
   "source": [
    "num1 = float(input(\"Enter the first number: \"))\n",
    "num2 = float(input(\"Enter the second number: \"))\n",
    "diff_result = num1 - num2\n",
    "print(f\"{num1} - {num2} = {diff_result}\")"
   ]
  },
  {
   "cell_type": "code",
   "execution_count": null,
   "id": "e42027c7",
   "metadata": {},
   "outputs": [],
   "source": [
    "num1 = float(input(\"Enter the first number: \"))\n",
    "num2 = float(input(\"Enter the second number: \"))\n",
    "product_result = num1 * num2\n",
    "print(f\"{num1} * {num2} = {product_result}\")"
   ]
  },
  {
   "cell_type": "code",
   "execution_count": null,
   "id": "91375957",
   "metadata": {},
   "outputs": [],
   "source": [
    "num1 = float(input(\"Enter the first number: \"))\n",
    "num2 = float(input(\"Enter the second number: \"))\n",
    "quotient_result = num1 / num2\n",
    "print(f\"{num1} / {num2} = {quotient_result}\")"
   ]
  },
  {
   "cell_type": "markdown",
   "id": "fea3076a",
   "metadata": {},
   "source": [
    "**Here is a program with a condition, it also has a statistical calculation**"
   ]
  },
  {
   "cell_type": "code",
   "execution_count": null,
   "id": "80653db4",
   "metadata": {},
   "outputs": [],
   "source": [
    "input_numbers = input(\"Enter a list of numbers separated by commas: \")\n",
    "numbers_list = [float(x.strip()) for x in input_numbers.split(',')]\n",
    "\n",
    "if len(numbers_list) > 0:\n",
    "    mean = sum(numbers_list) / len(numbers_list)\n",
    "    print(f\"Mean (Average) of the numbers is: {mean:.2f}\")\n",
    "else:\n",
    "    print(\"No numbers entered. Please provide at least one number.\")"
   ]
  },
  {
   "cell_type": "markdown",
   "id": "e4ed34ba",
   "metadata": {},
   "source": [
    "**Here is a program combining some of the things shown above with a practical use**"
   ]
  },
  {
   "cell_type": "code",
   "execution_count": 33,
   "id": "bfdf88eb",
   "metadata": {},
   "outputs": [
    {
     "name": "stdout",
     "output_type": "stream",
     "text": [
      "\n",
      "Statistics Results:\n",
      "Numbers: 2.0, 4.0, 15.0, 9.0\n",
      "Mean: 7.50\n",
      "Median: 6.50\n"
     ]
    }
   ],
   "source": [
    "import statistics\n",
    "\n",
    "input_numbers = input(\"Enter a list of numbers separated by commas: \")\n",
    "numbers_list = [float(x.strip()) for x in input_numbers.split(',')]\n",
    "\n",
    "mean = statistics.mean(numbers_list)\n",
    "median = statistics.median(numbers_list)\n",
    "\n",
    "result = {\n",
    "\"Numbers\": numbers_list,\n",
    "\"Mean\": mean,\n",
    "\"Median\": median\n",
    "}\n",
    "\n",
    "print(\"\\nStatistics Results:\")\n",
    "for key, value in result.items():\n",
    "    if key == \"Numbers\":\n",
    "        print(f\"{key}: {', '.join(map(str, value))}\")\n",
    "    else:\n",
    "        print(f\"{key}: {value:.2f}\")"
   ]
  }
 ],
 "metadata": {
  "kernelspec": {
   "display_name": "Python 3 (ipykernel)",
   "language": "python",
   "name": "python3"
  },
  "language_info": {
   "codemirror_mode": {
    "name": "ipython",
    "version": 3
   },
   "file_extension": ".py",
   "mimetype": "text/x-python",
   "name": "python",
   "nbconvert_exporter": "python",
   "pygments_lexer": "ipython3",
   "version": "3.10.12"
  }
 },
 "nbformat": 4,
 "nbformat_minor": 5
}
