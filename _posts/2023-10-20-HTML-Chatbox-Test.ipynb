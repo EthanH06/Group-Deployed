{
 "cells": [
  {
   "cell_type": "markdown",
   "metadata": {},
   "source": [
    "---\n",
    "toc: true\n",
    "comments: false\n",
    "layout: post\n",
    "title: Chatbox\n",
    "description: This week's overview\n",
    "type: tangibles\n",
    "courses: { compsci: {week: 7} }\n",
    "---"
   ]
  },
  {
   "cell_type": "code",
   "execution_count": 2,
   "metadata": {
    "vscode": {
     "languageId": "html"
    }
   },
   "outputs": [
    {
     "ename": "IndentationError",
     "evalue": "unindent does not match any outer indentation level (<tokenize>, line 27)",
     "output_type": "error",
     "traceback": [
      "\u001b[0;36m  File \u001b[0;32m\"<tokenize>\"\u001b[0;36m, line \u001b[0;32m27\u001b[0m\n\u001b[0;31m    </div>\u001b[0m\n\u001b[0m    ^\u001b[0m\n\u001b[0;31mIndentationError\u001b[0m\u001b[0;31m:\u001b[0m unindent does not match any outer indentation level\n"
     ]
    }
   ],
   "source": [
    "<html>\n",
    "<head>\n",
    "    <title>Chat Box UI Design</title>\n",
    "    <link rel=\"stylesheet\" href=\"styles.css\">\n",
    "\n",
    "\n",
    "    <!-- Import this CDN to use icons -->\n",
    "    <link rel=\"stylesheet\" href=\"https://cdn.jsdelivr.net/npm/bootstrap-icons@1.9.1/font/bootstrap-icons.css\">\n",
    "</head>\n",
    "<body>\n",
    "<!-- Main container  -->\n",
    "    <div class=\"container\">\n",
    "<!--  Message header section starts    -->\n",
    "        <div class=\"msg-header\">\n",
    "        \n",
    "         </div> \n",
    "<!-- Message header section ends -->\n",
    "\n",
    "<!-- Chat inbox section starts -->\n",
    "         \n",
    "    <div class=\"chat-page\">\n",
    "            <div class=\"msg-inbox\">\n",
    "                <div class=\"chats\">\n",
    "                     <div class=\"msg-page\">\n",
    "<!-- Contains the incoming and outgoing messages -->\n",
    "                      </div> \n",
    "                </div>\n",
    "                \n",
    "<!--  Message bottom section starts -->\n",
    "               <div class=\"msg-bottom\">\n",
    "               \n",
    "              \n",
    "                </div> \n",
    "                \n",
    "<!-- Message bottom section ends. -->\n",
    "            </div>\n",
    "        </div>\n",
    "    </div>\n",
    "\n",
    "</body>\n",
    "\n",
    "</html>"
   ]
  }
 ],
 "metadata": {
  "kernelspec": {
   "display_name": "Python 3",
   "language": "python",
   "name": "python3"
  },
  "language_info": {
   "codemirror_mode": {
    "name": "ipython",
    "version": 3
   },
   "file_extension": ".py",
   "mimetype": "text/x-python",
   "name": "python",
   "nbconvert_exporter": "python",
   "pygments_lexer": "ipython3",
   "version": "3.10.12"
  },
  "orig_nbformat": 4
 },
 "nbformat": 4,
 "nbformat_minor": 2
}
