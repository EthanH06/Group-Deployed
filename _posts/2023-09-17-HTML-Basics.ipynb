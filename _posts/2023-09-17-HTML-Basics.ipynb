{
 "cells": [
  {
   "cell_type": "markdown",
   "metadata": {},
   "source": [
    "---\n",
    "toc: true\n",
    "comments: false\n",
    "layout: post\n",
    "title: HTML Basics\n",
    "description: HTML Basics\n",
    "courses: { compsci: {week: 6} }\n",
    "type: hacks\n",
    "---"
   ]
  },
  {
   "cell_type": "code",
   "execution_count": 5,
   "metadata": {
    "vscode": {
     "languageId": "html"
    }
   },
   "outputs": [
    {
     "data": {
      "text/html": [
       "\n",
       "<div>\n",
       "    <p><b>This is a paragraph</b></p>\n",
       "    <button>This is a button</button>\n",
       "</div>\n",
       "\n",
       "<div>\n",
       "    <a href=\"https://nighthawkcoders.github.io/teacher/basics/html\"><i>Where I learned to do This</i></a>\n",
       "    <br>\n",
       "    <a href=\"https://www.w3schools.com/\"><i>One of the most helpful coding websites</i></a>\n",
       "</div>\n"
      ],
      "text/plain": [
       "<IPython.core.display.HTML object>"
      ]
     },
     "metadata": {},
     "output_type": "display_data"
    }
   ],
   "source": [
    "%%html\n",
    "\n",
    "<div>\n",
    "    <p><b>This is a paragraph</b></p>\n",
    "    <button>This is a button</button>\n",
    "</div>\n",
    "\n",
    "<div>\n",
    "    <a href=\"https://nighthawkcoders.github.io/teacher/basics/html\"><i>Where I learned to do This</i></a>\n",
    "    <br>\n",
    "    <a href=\"https://www.w3schools.com/\"><i>One of the most helpful coding websites</i></a>\n",
    "</div>"
   ]
  },
  {
   "cell_type": "code",
   "execution_count": 14,
   "metadata": {
    "vscode": {
     "languageId": "javascript"
    }
   },
   "outputs": [
    {
     "data": {
      "application/javascript": "\nlet ninaad = {\n    name: \"Ninaad\",\n    age: 16,\n    currentClasses: [\"AP Stats\", \"US History\", \"APEL\", \"AP Chem\", \"APCSP\"],\n    interests: [\"surfing\", \"running\"],\n    groupMembersNames: [\"Eshaan\", \"Brandon\", \"Aaron\"],\n    dogName: \"Messi\",\n  };\n  \n  console.log(ninaad);\n  \n  // Manipulate the arrays within the object\n  ninaad.currentClasses.push(\"Spanish\");\n  ninaad.interests.push(\"coding\");\n  ninaad.groupMembersNames.splice(1, 1, \"Bryan\");\n  ninaad.age += 1;\n  \n  console.log(ninaad);\n  console.log(\"New Current Classes:\", ninaad.currentClasses);\n  console.log(\"New Interests:\", ninaad.interests);\n  console.log(\"Updated Age:\", ninaad.age);\n  \n  // Mathematical operations\n  let ageInTenYears = ninaad.age + 10;\n  let numClasses = ninaad.currentClasses.length;\n  let groupMembersCount = ninaad.groupMembersNames.length;\n  \n  console.log(\"Age in Ten Years:\", ageInTenYears);\n  console.log(\"Number of Classes:\", numClasses);\n  console.log(\"Number of Group Members:\", groupMembersCount);\n  \n  // Using typeof\n  console.log(\"Type of 'name':\", typeof ninaad.name);\n  console.log(\"Type of 'interests':\", typeof ninaad.interests);\n  console.log(\"Type of 'dogName':\", typeof ninaad.dogName);\n  <IPython.core.display.Javascript object></IPython.core.display.Javascript>\n  \n",
      "text/plain": [
       "<IPython.core.display.Javascript object>"
      ]
     },
     "metadata": {},
     "output_type": "display_data"
    }
   ],
   "source": [
    "%%js\n",
    "\n",
    "let ninaad = {\n",
    "    name: \"Ninaad\",\n",
    "    age: 16,\n",
    "    currentClasses: [\"AP Stats\", \"US History\", \"APEL\", \"AP Chem\", \"APCSP\"],\n",
    "    interests: [\"surfing\", \"running\"],\n",
    "    groupMembersNames: [\"Eshaan\", \"Brandon\", \"Aaron\"],\n",
    "    dogName: \"Messi\",\n",
    "  };\n",
    "  \n",
    "  console.log(ninaad);\n",
    "  \n",
    "  // Manipulate the arrays within the object\n",
    "  ninaad.currentClasses.push(\"Spanish\");\n",
    "  ninaad.interests.push(\"coding\");\n",
    "  ninaad.groupMembersNames.splice(1, 1, \"Bryan\");\n",
    "  ninaad.age += 1;\n",
    "  \n",
    "  console.log(ninaad);\n",
    "  console.log(\"New Current Classes:\", ninaad.currentClasses);\n",
    "  console.log(\"New Interests:\", ninaad.interests);\n",
    "  console.log(\"Updated Age:\", ninaad.age);\n",
    "  \n",
    "  // Mathematical operations\n",
    "  let ageInTenYears = ninaad.age + 10;\n",
    "  let numClasses = ninaad.currentClasses.length;\n",
    "  let groupMembersCount = ninaad.groupMembersNames.length;\n",
    "  \n",
    "  console.log(\"Age in Ten Years:\", ageInTenYears);\n",
    "  console.log(\"Number of Classes:\", numClasses);\n",
    "  console.log(\"Number of Group Members:\", groupMembersCount);\n",
    "  \n",
    "  // Using typeof\n",
    "  console.log(\"Type of 'name':\", typeof ninaad.name);\n",
    "  console.log(\"Type of 'interests':\", typeof ninaad.interests);\n",
    "  console.log(\"Type of 'dogName':\", typeof ninaad.dogName);\n",
    "  "
   ]
  }
 ],
 "metadata": {
  "kernelspec": {
   "display_name": "Python 3",
   "language": "python",
   "name": "python3"
  },
  "language_info": {
   "codemirror_mode": {
    "name": "ipython",
    "version": 3
   },
   "file_extension": ".py",
   "mimetype": "text/x-python",
   "name": "python",
   "nbconvert_exporter": "python",
   "pygments_lexer": "ipython3",
   "version": "3.10.12"
  },
  "orig_nbformat": 4
 },
 "nbformat": 4,
 "nbformat_minor": 2
}
